{
 "cells": [
  {
   "cell_type": "markdown",
   "id": "bd88c6ae",
   "metadata": {},
   "source": [
    "### Introduction to PIV using OpenPIV"
   ]
  },
  {
   "cell_type": "markdown",
   "id": "d88e57cc",
   "metadata": {},
   "source": [
    "Particle Image Velocimetry (PIV) is an optical measurement technique used to visualize and analyze fluid flow by tracking the movement of seeded tracer particles in a fluid. By capturing sequential images and analyzing the displacement of these particles, PIV provides detailed velocity field information.\n",
    "\n",
    "OpenPIV-Python is an open-source Python library that implements PIV algorithms, enabling users to process image pairs, calculate velocity fields, and visualize flow patterns efficiently. It is widely used in research and education for fluid mechanics and experimental flow analysis."
   ]
  },
  {
   "cell_type": "markdown",
   "id": "9cc85c4c",
   "metadata": {
    "vscode": {
     "languageId": "markdown"
    }
   },
   "source": [
    "#### Working with Python and Jupyter Notebooks\n",
    "\n",
    "Jupyter Notebooks provide an interactive environment for writing and running Python code. Each cell can contain code or text (Markdown). When you press the \"play\" button (or Shift+Enter) on a cell, the code in that cell is executed, and the output appears below it. You can run cells in any order, but running them sequentially from top to bottom is recommended for reproducibility.\n",
    "\n",
    "If things go wrong or outputs seem inconsistent, you can restart the kernel (from the menu: Kernel > Restart Kernel) and then run all cells again (from the menu: Run > Run All Cells) to reset the environment and ensure everything runs in the correct order."
   ]
  },
  {
   "cell_type": "markdown",
   "id": "cc267491",
   "metadata": {
    "vscode": {
     "languageId": "markdown"
    }
   },
   "source": [
    "#### Working with Google Colaboratory\n",
    "\n",
    "Google Colaboratory (Colab) is a free, cloud-based Jupyter notebook environment provided by Google. It allows you to write and execute Python code in your browser, with no setup required. Colab provides access to powerful computing resources, including GPUs and TPUs, making it ideal for data analysis, machine learning, and scientific computing.\n",
    "\n",
    "**Key features of Google Colab:**\n",
    "- No installation required; runs entirely in the cloud.\n",
    "- Free access to GPUs and TPUs for accelerated computing.\n",
    "- Easy sharing and collaboration, similar to Google Docs.\n",
    "- Integration with Google Drive for saving and loading notebooks.\n",
    "\n",
    "**How to use Google Colab:**\n",
    "1. Visit [https://colab.research.google.com](https://colab.research.google.com).\n",
    "2. Sign in with your Google account.\n",
    "3. Create a new notebook or upload an existing one.\n",
    "4. Write and execute code in cells, just like in Jupyter Notebook.\n",
    "5. Save your work to Google Drive or download it as an `.ipynb` file.\n",
    "\n",
    "Colab is a convenient platform for running Python code, especially when you need extra computational power or want to collaborate with others."
   ]
  }
 ],
 "metadata": {
  "kernelspec": {
   "display_name": "openpiv",
   "language": "python",
   "name": "python3"
  },
  "language_info": {
   "name": "python",
   "version": "3.13.5"
  }
 },
 "nbformat": 4,
 "nbformat_minor": 5
}
